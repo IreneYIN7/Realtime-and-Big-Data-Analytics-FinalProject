{
  "nbformat": 4,
  "nbformat_minor": 0,
  "metadata": {
    "colab": {
      "provenance": []
    },
    "kernelspec": {
      "name": "python3",
      "display_name": "Python 3"
    },
    "language_info": {
      "name": "python"
    }
  },
  "cells": [
    {
      "cell_type": "code",
      "execution_count": 1,
      "metadata": {
        "colab": {
          "base_uri": "https://localhost:8080/"
        },
        "id": "lsI4CZfzfNi8",
        "outputId": "3ade3f7f-7314-4f2f-c98d-cb72d0c41922"
      },
      "outputs": [
        {
          "output_type": "stream",
          "name": "stdout",
          "text": [
            "Mounted at /content/drive\n"
          ]
        }
      ],
      "source": [
        "from google.colab import drive\n",
        "drive.mount('/content/drive')\n"
      ]
    },
    {
      "cell_type": "code",
      "source": [
        "import numpy as np\n",
        "from scipy.stats import pearsonr\n",
        "import os\n",
        "import pandas as pd\n",
        "import seaborn as sns\n",
        "import matplotlib.pyplot as plt\n",
        "\n"
      ],
      "metadata": {
        "id": "e_Ir4tDmfVrW"
      },
      "execution_count": 12,
      "outputs": []
    },
    {
      "cell_type": "markdown",
      "source": [
        "# Data Profiling of COVID-19 Epidemology"
      ],
      "metadata": {
        "id": "2V2mLzR6f558"
      }
    },
    {
      "cell_type": "code",
      "source": [
        "pathEpi = '/content/drive/MyDrive/2024_Spring/RBDA/Final_Project/final_joins_csv/epidemiology.csv'\n",
        "df = pd.read_csv(pathEpi)\n",
        "df.info()"
      ],
      "metadata": {
        "colab": {
          "base_uri": "https://localhost:8080/"
        },
        "id": "5Aiaa9NVfV95",
        "outputId": "a5e922e0-4f17-4a5a-ae3f-68ec9ec2016f"
      },
      "execution_count": 3,
      "outputs": [
        {
          "output_type": "stream",
          "name": "stdout",
          "text": [
            "<class 'pandas.core.frame.DataFrame'>\n",
            "RangeIndex: 12525825 entries, 0 to 12525824\n",
            "Data columns (total 10 columns):\n",
            " #   Column                Dtype  \n",
            "---  ------                -----  \n",
            " 0   date                  object \n",
            " 1   location_key          object \n",
            " 2   new_confirmed         float64\n",
            " 3   new_deceased          float64\n",
            " 4   new_recovered         float64\n",
            " 5   new_tested            float64\n",
            " 6   cumulative_confirmed  float64\n",
            " 7   cumulative_deceased   float64\n",
            " 8   cumulative_recovered  float64\n",
            " 9   cumulative_tested     float64\n",
            "dtypes: float64(8), object(2)\n",
            "memory usage: 955.6+ MB\n"
          ]
        }
      ]
    },
    {
      "cell_type": "code",
      "source": [
        "df['date'] = pd.to_datetime(df['date'])\n",
        "# Convert float64 columns to int (after ensuring there are no NaN values which cannot be converted to int)\n",
        "float_columns = ['new_confirmed', 'new_deceased', 'new_recovered', 'new_tested',\n",
        "                 'cumulative_confirmed', 'cumulative_deceased', 'cumulative_recovered', 'cumulative_tested']\n",
        "for column in float_columns:\n",
        "    # It's important to fill NaN values because NaN cannot be converted to int\n",
        "    df[column] = df[column].fillna(0).astype(int)\n",
        "\n",
        "# Convert 'location_key' to string\n",
        "df['location_key'] = df['location_key'].astype(str)\n",
        "df.head()"
      ],
      "metadata": {
        "colab": {
          "base_uri": "https://localhost:8080/",
          "height": 206
        },
        "id": "oGiSizC1fcsb",
        "outputId": "1c96b02f-af3a-4aeb-ff3e-7e28bbd81a3c"
      },
      "execution_count": 4,
      "outputs": [
        {
          "output_type": "execute_result",
          "data": {
            "text/plain": [
              "        date location_key  new_confirmed  new_deceased  new_recovered  \\\n",
              "0 2020-01-01           AD              0             0              0   \n",
              "1 2020-01-02           AD              0             0              0   \n",
              "2 2020-01-03           AD              0             0              0   \n",
              "3 2020-01-04           AD              0             0              0   \n",
              "4 2020-01-05           AD              0             0              0   \n",
              "\n",
              "   new_tested  cumulative_confirmed  cumulative_deceased  \\\n",
              "0           0                     0                    0   \n",
              "1           0                     0                    0   \n",
              "2           0                     0                    0   \n",
              "3           0                     0                    0   \n",
              "4           0                     0                    0   \n",
              "\n",
              "   cumulative_recovered  cumulative_tested  \n",
              "0                     0                  0  \n",
              "1                     0                  0  \n",
              "2                     0                  0  \n",
              "3                     0                  0  \n",
              "4                     0                  0  "
            ],
            "text/html": [
              "\n",
              "  <div id=\"df-96c9ebc2-6695-4aee-80ff-ddd46d520581\" class=\"colab-df-container\">\n",
              "    <div>\n",
              "<style scoped>\n",
              "    .dataframe tbody tr th:only-of-type {\n",
              "        vertical-align: middle;\n",
              "    }\n",
              "\n",
              "    .dataframe tbody tr th {\n",
              "        vertical-align: top;\n",
              "    }\n",
              "\n",
              "    .dataframe thead th {\n",
              "        text-align: right;\n",
              "    }\n",
              "</style>\n",
              "<table border=\"1\" class=\"dataframe\">\n",
              "  <thead>\n",
              "    <tr style=\"text-align: right;\">\n",
              "      <th></th>\n",
              "      <th>date</th>\n",
              "      <th>location_key</th>\n",
              "      <th>new_confirmed</th>\n",
              "      <th>new_deceased</th>\n",
              "      <th>new_recovered</th>\n",
              "      <th>new_tested</th>\n",
              "      <th>cumulative_confirmed</th>\n",
              "      <th>cumulative_deceased</th>\n",
              "      <th>cumulative_recovered</th>\n",
              "      <th>cumulative_tested</th>\n",
              "    </tr>\n",
              "  </thead>\n",
              "  <tbody>\n",
              "    <tr>\n",
              "      <th>0</th>\n",
              "      <td>2020-01-01</td>\n",
              "      <td>AD</td>\n",
              "      <td>0</td>\n",
              "      <td>0</td>\n",
              "      <td>0</td>\n",
              "      <td>0</td>\n",
              "      <td>0</td>\n",
              "      <td>0</td>\n",
              "      <td>0</td>\n",
              "      <td>0</td>\n",
              "    </tr>\n",
              "    <tr>\n",
              "      <th>1</th>\n",
              "      <td>2020-01-02</td>\n",
              "      <td>AD</td>\n",
              "      <td>0</td>\n",
              "      <td>0</td>\n",
              "      <td>0</td>\n",
              "      <td>0</td>\n",
              "      <td>0</td>\n",
              "      <td>0</td>\n",
              "      <td>0</td>\n",
              "      <td>0</td>\n",
              "    </tr>\n",
              "    <tr>\n",
              "      <th>2</th>\n",
              "      <td>2020-01-03</td>\n",
              "      <td>AD</td>\n",
              "      <td>0</td>\n",
              "      <td>0</td>\n",
              "      <td>0</td>\n",
              "      <td>0</td>\n",
              "      <td>0</td>\n",
              "      <td>0</td>\n",
              "      <td>0</td>\n",
              "      <td>0</td>\n",
              "    </tr>\n",
              "    <tr>\n",
              "      <th>3</th>\n",
              "      <td>2020-01-04</td>\n",
              "      <td>AD</td>\n",
              "      <td>0</td>\n",
              "      <td>0</td>\n",
              "      <td>0</td>\n",
              "      <td>0</td>\n",
              "      <td>0</td>\n",
              "      <td>0</td>\n",
              "      <td>0</td>\n",
              "      <td>0</td>\n",
              "    </tr>\n",
              "    <tr>\n",
              "      <th>4</th>\n",
              "      <td>2020-01-05</td>\n",
              "      <td>AD</td>\n",
              "      <td>0</td>\n",
              "      <td>0</td>\n",
              "      <td>0</td>\n",
              "      <td>0</td>\n",
              "      <td>0</td>\n",
              "      <td>0</td>\n",
              "      <td>0</td>\n",
              "      <td>0</td>\n",
              "    </tr>\n",
              "  </tbody>\n",
              "</table>\n",
              "</div>\n",
              "    <div class=\"colab-df-buttons\">\n",
              "\n",
              "  <div class=\"colab-df-container\">\n",
              "    <button class=\"colab-df-convert\" onclick=\"convertToInteractive('df-96c9ebc2-6695-4aee-80ff-ddd46d520581')\"\n",
              "            title=\"Convert this dataframe to an interactive table.\"\n",
              "            style=\"display:none;\">\n",
              "\n",
              "  <svg xmlns=\"http://www.w3.org/2000/svg\" height=\"24px\" viewBox=\"0 -960 960 960\">\n",
              "    <path d=\"M120-120v-720h720v720H120Zm60-500h600v-160H180v160Zm220 220h160v-160H400v160Zm0 220h160v-160H400v160ZM180-400h160v-160H180v160Zm440 0h160v-160H620v160ZM180-180h160v-160H180v160Zm440 0h160v-160H620v160Z\"/>\n",
              "  </svg>\n",
              "    </button>\n",
              "\n",
              "  <style>\n",
              "    .colab-df-container {\n",
              "      display:flex;\n",
              "      gap: 12px;\n",
              "    }\n",
              "\n",
              "    .colab-df-convert {\n",
              "      background-color: #E8F0FE;\n",
              "      border: none;\n",
              "      border-radius: 50%;\n",
              "      cursor: pointer;\n",
              "      display: none;\n",
              "      fill: #1967D2;\n",
              "      height: 32px;\n",
              "      padding: 0 0 0 0;\n",
              "      width: 32px;\n",
              "    }\n",
              "\n",
              "    .colab-df-convert:hover {\n",
              "      background-color: #E2EBFA;\n",
              "      box-shadow: 0px 1px 2px rgba(60, 64, 67, 0.3), 0px 1px 3px 1px rgba(60, 64, 67, 0.15);\n",
              "      fill: #174EA6;\n",
              "    }\n",
              "\n",
              "    .colab-df-buttons div {\n",
              "      margin-bottom: 4px;\n",
              "    }\n",
              "\n",
              "    [theme=dark] .colab-df-convert {\n",
              "      background-color: #3B4455;\n",
              "      fill: #D2E3FC;\n",
              "    }\n",
              "\n",
              "    [theme=dark] .colab-df-convert:hover {\n",
              "      background-color: #434B5C;\n",
              "      box-shadow: 0px 1px 3px 1px rgba(0, 0, 0, 0.15);\n",
              "      filter: drop-shadow(0px 1px 2px rgba(0, 0, 0, 0.3));\n",
              "      fill: #FFFFFF;\n",
              "    }\n",
              "  </style>\n",
              "\n",
              "    <script>\n",
              "      const buttonEl =\n",
              "        document.querySelector('#df-96c9ebc2-6695-4aee-80ff-ddd46d520581 button.colab-df-convert');\n",
              "      buttonEl.style.display =\n",
              "        google.colab.kernel.accessAllowed ? 'block' : 'none';\n",
              "\n",
              "      async function convertToInteractive(key) {\n",
              "        const element = document.querySelector('#df-96c9ebc2-6695-4aee-80ff-ddd46d520581');\n",
              "        const dataTable =\n",
              "          await google.colab.kernel.invokeFunction('convertToInteractive',\n",
              "                                                    [key], {});\n",
              "        if (!dataTable) return;\n",
              "\n",
              "        const docLinkHtml = 'Like what you see? Visit the ' +\n",
              "          '<a target=\"_blank\" href=https://colab.research.google.com/notebooks/data_table.ipynb>data table notebook</a>'\n",
              "          + ' to learn more about interactive tables.';\n",
              "        element.innerHTML = '';\n",
              "        dataTable['output_type'] = 'display_data';\n",
              "        await google.colab.output.renderOutput(dataTable, element);\n",
              "        const docLink = document.createElement('div');\n",
              "        docLink.innerHTML = docLinkHtml;\n",
              "        element.appendChild(docLink);\n",
              "      }\n",
              "    </script>\n",
              "  </div>\n",
              "\n",
              "\n",
              "<div id=\"df-f89ca60e-a177-4e80-a991-4013bedce07c\">\n",
              "  <button class=\"colab-df-quickchart\" onclick=\"quickchart('df-f89ca60e-a177-4e80-a991-4013bedce07c')\"\n",
              "            title=\"Suggest charts\"\n",
              "            style=\"display:none;\">\n",
              "\n",
              "<svg xmlns=\"http://www.w3.org/2000/svg\" height=\"24px\"viewBox=\"0 0 24 24\"\n",
              "     width=\"24px\">\n",
              "    <g>\n",
              "        <path d=\"M19 3H5c-1.1 0-2 .9-2 2v14c0 1.1.9 2 2 2h14c1.1 0 2-.9 2-2V5c0-1.1-.9-2-2-2zM9 17H7v-7h2v7zm4 0h-2V7h2v10zm4 0h-2v-4h2v4z\"/>\n",
              "    </g>\n",
              "</svg>\n",
              "  </button>\n",
              "\n",
              "<style>\n",
              "  .colab-df-quickchart {\n",
              "      --bg-color: #E8F0FE;\n",
              "      --fill-color: #1967D2;\n",
              "      --hover-bg-color: #E2EBFA;\n",
              "      --hover-fill-color: #174EA6;\n",
              "      --disabled-fill-color: #AAA;\n",
              "      --disabled-bg-color: #DDD;\n",
              "  }\n",
              "\n",
              "  [theme=dark] .colab-df-quickchart {\n",
              "      --bg-color: #3B4455;\n",
              "      --fill-color: #D2E3FC;\n",
              "      --hover-bg-color: #434B5C;\n",
              "      --hover-fill-color: #FFFFFF;\n",
              "      --disabled-bg-color: #3B4455;\n",
              "      --disabled-fill-color: #666;\n",
              "  }\n",
              "\n",
              "  .colab-df-quickchart {\n",
              "    background-color: var(--bg-color);\n",
              "    border: none;\n",
              "    border-radius: 50%;\n",
              "    cursor: pointer;\n",
              "    display: none;\n",
              "    fill: var(--fill-color);\n",
              "    height: 32px;\n",
              "    padding: 0;\n",
              "    width: 32px;\n",
              "  }\n",
              "\n",
              "  .colab-df-quickchart:hover {\n",
              "    background-color: var(--hover-bg-color);\n",
              "    box-shadow: 0 1px 2px rgba(60, 64, 67, 0.3), 0 1px 3px 1px rgba(60, 64, 67, 0.15);\n",
              "    fill: var(--button-hover-fill-color);\n",
              "  }\n",
              "\n",
              "  .colab-df-quickchart-complete:disabled,\n",
              "  .colab-df-quickchart-complete:disabled:hover {\n",
              "    background-color: var(--disabled-bg-color);\n",
              "    fill: var(--disabled-fill-color);\n",
              "    box-shadow: none;\n",
              "  }\n",
              "\n",
              "  .colab-df-spinner {\n",
              "    border: 2px solid var(--fill-color);\n",
              "    border-color: transparent;\n",
              "    border-bottom-color: var(--fill-color);\n",
              "    animation:\n",
              "      spin 1s steps(1) infinite;\n",
              "  }\n",
              "\n",
              "  @keyframes spin {\n",
              "    0% {\n",
              "      border-color: transparent;\n",
              "      border-bottom-color: var(--fill-color);\n",
              "      border-left-color: var(--fill-color);\n",
              "    }\n",
              "    20% {\n",
              "      border-color: transparent;\n",
              "      border-left-color: var(--fill-color);\n",
              "      border-top-color: var(--fill-color);\n",
              "    }\n",
              "    30% {\n",
              "      border-color: transparent;\n",
              "      border-left-color: var(--fill-color);\n",
              "      border-top-color: var(--fill-color);\n",
              "      border-right-color: var(--fill-color);\n",
              "    }\n",
              "    40% {\n",
              "      border-color: transparent;\n",
              "      border-right-color: var(--fill-color);\n",
              "      border-top-color: var(--fill-color);\n",
              "    }\n",
              "    60% {\n",
              "      border-color: transparent;\n",
              "      border-right-color: var(--fill-color);\n",
              "    }\n",
              "    80% {\n",
              "      border-color: transparent;\n",
              "      border-right-color: var(--fill-color);\n",
              "      border-bottom-color: var(--fill-color);\n",
              "    }\n",
              "    90% {\n",
              "      border-color: transparent;\n",
              "      border-bottom-color: var(--fill-color);\n",
              "    }\n",
              "  }\n",
              "</style>\n",
              "\n",
              "  <script>\n",
              "    async function quickchart(key) {\n",
              "      const quickchartButtonEl =\n",
              "        document.querySelector('#' + key + ' button');\n",
              "      quickchartButtonEl.disabled = true;  // To prevent multiple clicks.\n",
              "      quickchartButtonEl.classList.add('colab-df-spinner');\n",
              "      try {\n",
              "        const charts = await google.colab.kernel.invokeFunction(\n",
              "            'suggestCharts', [key], {});\n",
              "      } catch (error) {\n",
              "        console.error('Error during call to suggestCharts:', error);\n",
              "      }\n",
              "      quickchartButtonEl.classList.remove('colab-df-spinner');\n",
              "      quickchartButtonEl.classList.add('colab-df-quickchart-complete');\n",
              "    }\n",
              "    (() => {\n",
              "      let quickchartButtonEl =\n",
              "        document.querySelector('#df-f89ca60e-a177-4e80-a991-4013bedce07c button');\n",
              "      quickchartButtonEl.style.display =\n",
              "        google.colab.kernel.accessAllowed ? 'block' : 'none';\n",
              "    })();\n",
              "  </script>\n",
              "</div>\n",
              "    </div>\n",
              "  </div>\n"
            ],
            "application/vnd.google.colaboratory.intrinsic+json": {
              "type": "dataframe",
              "variable_name": "df"
            }
          },
          "metadata": {},
          "execution_count": 4
        }
      ]
    },
    {
      "cell_type": "code",
      "source": [
        "df.info()"
      ],
      "metadata": {
        "colab": {
          "base_uri": "https://localhost:8080/"
        },
        "id": "UquhmQTOffkP",
        "outputId": "b932b884-9e79-4fe6-af6b-e96cb3815aa7"
      },
      "execution_count": 5,
      "outputs": [
        {
          "output_type": "stream",
          "name": "stdout",
          "text": [
            "<class 'pandas.core.frame.DataFrame'>\n",
            "RangeIndex: 12525825 entries, 0 to 12525824\n",
            "Data columns (total 10 columns):\n",
            " #   Column                Dtype         \n",
            "---  ------                -----         \n",
            " 0   date                  datetime64[ns]\n",
            " 1   location_key          object        \n",
            " 2   new_confirmed         int64         \n",
            " 3   new_deceased          int64         \n",
            " 4   new_recovered         int64         \n",
            " 5   new_tested            int64         \n",
            " 6   cumulative_confirmed  int64         \n",
            " 7   cumulative_deceased   int64         \n",
            " 8   cumulative_recovered  int64         \n",
            " 9   cumulative_tested     int64         \n",
            "dtypes: datetime64[ns](1), int64(8), object(1)\n",
            "memory usage: 955.6+ MB\n"
          ]
        }
      ]
    },
    {
      "cell_type": "code",
      "source": [
        "\n",
        "print(df.describe())  # Provides count, mean, std, min, max, and quantiles for numerical columns\n",
        "print(df['location_key'].value_counts())  # Frequency count of locations\n",
        "\n"
      ],
      "metadata": {
        "colab": {
          "base_uri": "https://localhost:8080/"
        },
        "id": "i40ywQL-fkIj",
        "outputId": "c4ac5ac1-6d58-4b9e-f571-2d500394ba35"
      },
      "execution_count": 7,
      "outputs": [
        {
          "output_type": "stream",
          "name": "stdout",
          "text": [
            "                                date  new_confirmed  new_deceased  \\\n",
            "count                       12525825   1.252582e+07  1.252582e+07   \n",
            "mean   2021-05-27 09:09:11.003419136   1.107464e+02  1.187424e+00   \n",
            "min              2019-12-31 00:00:00  -5.045418e+06 -6.381100e+04   \n",
            "25%              2020-10-29 00:00:00   0.000000e+00  0.000000e+00   \n",
            "50%              2021-05-22 00:00:00   1.000000e+00  0.000000e+00   \n",
            "75%              2021-12-24 00:00:00   1.100000e+01  0.000000e+00   \n",
            "max              2022-12-30 00:00:00   5.047094e+06  6.383000e+04   \n",
            "std                              NaN   1.163653e+04  8.500915e+01   \n",
            "\n",
            "       new_recovered    new_tested  cumulative_confirmed  cumulative_deceased  \\\n",
            "count   1.252582e+07  1.252582e+07          1.252582e+07         1.252582e+07   \n",
            "mean    6.687845e+01  6.400054e+02          3.483791e+04         5.381417e+02   \n",
            "min    -1.001683e+07 -3.541552e+08          0.000000e+00         0.000000e+00   \n",
            "25%     0.000000e+00  0.000000e+00          1.800000e+02         1.000000e+00   \n",
            "50%     0.000000e+00  0.000000e+00          9.890000e+02         1.400000e+01   \n",
            "75%     0.000000e+00  0.000000e+00          4.845000e+03         6.900000e+01   \n",
            "max     9.967355e+06  3.541856e+08          9.244050e+07         1.005195e+06   \n",
            "std     1.070543e+04  1.492764e+05          6.086300e+05         8.834695e+03   \n",
            "\n",
            "       cumulative_recovered  cumulative_tested  \n",
            "count          1.252582e+07       1.252582e+07  \n",
            "mean           2.120728e+04       2.178579e+05  \n",
            "min           -3.000000e+00       0.000000e+00  \n",
            "25%            0.000000e+00       0.000000e+00  \n",
            "50%            0.000000e+00       0.000000e+00  \n",
            "75%            0.000000e+00       0.000000e+00  \n",
            "max            2.345841e+08       9.214000e+09  \n",
            "std            8.884064e+05       7.456719e+06  \n",
            "location_key\n",
            "AU              990\n",
            "TH              990\n",
            "AT              989\n",
            "BR_SC           989\n",
            "BR_MA           989\n",
            "               ... \n",
            "MX_PUE_21028      1\n",
            "MX_PUE_21036      1\n",
            "MX_OAX_20048      1\n",
            "MX_PUE_21056      1\n",
            "MX_OAX_20465      1\n",
            "Name: count, Length: 20906, dtype: int64\n"
          ]
        }
      ]
    },
    {
      "cell_type": "code",
      "source": [
        "df.isnull().sum()  # Null count in each column"
      ],
      "metadata": {
        "colab": {
          "base_uri": "https://localhost:8080/"
        },
        "id": "yxOIlXqpfszg",
        "outputId": "808b6164-ca6e-41ec-eaf6-105b9c24ba83"
      },
      "execution_count": 9,
      "outputs": [
        {
          "output_type": "execute_result",
          "data": {
            "text/plain": [
              "date                    0\n",
              "location_key            0\n",
              "new_confirmed           0\n",
              "new_deceased            0\n",
              "new_recovered           0\n",
              "new_tested              0\n",
              "cumulative_confirmed    0\n",
              "cumulative_deceased     0\n",
              "cumulative_recovered    0\n",
              "cumulative_tested       0\n",
              "dtype: int64"
            ]
          },
          "metadata": {},
          "execution_count": 9
        }
      ]
    },
    {
      "cell_type": "code",
      "source": [
        "max_value = df['cumulative_confirmed'].max()\n",
        "print(\"Maximum Cumulative Confirmed Cases:\", max_value)\n",
        "\n",
        "# Minimum value\n",
        "min_value = df['cumulative_confirmed'].min()\n",
        "print(\"Minimum Cumulative Confirmed Cases:\", min_value)\n",
        "\n",
        "# Median value\n",
        "median_value = df['cumulative_confirmed'].median()\n",
        "print(\"Median Cumulative Confirmed Cases:\", median_value)\n",
        "\n",
        "# Standard Deviation\n",
        "std_dev = df['cumulative_confirmed'].std()\n",
        "print(\"Standard Deviation of Cumulative Confirmed Cases:\", std_dev)"
      ],
      "metadata": {
        "colab": {
          "base_uri": "https://localhost:8080/"
        },
        "id": "sa7NZouRieHC",
        "outputId": "4258a1c1-3c1c-49c5-ac33-562b968b4a39"
      },
      "execution_count": 15,
      "outputs": [
        {
          "output_type": "stream",
          "name": "stdout",
          "text": [
            "Maximum Cumulative Confirmed Cases: 92440495\n",
            "Minimum Cumulative Confirmed Cases: 0\n",
            "Median Cumulative Confirmed Cases: 989.0\n",
            "Standard Deviation of Cumulative Confirmed Cases: 608630.024916831\n"
          ]
        }
      ]
    },
    {
      "cell_type": "code",
      "source": [
        "max_value = df['cumulative_tested'].max()\n",
        "print(\"Maximum Cumulative tested Cases:\", max_value)\n",
        "\n",
        "# Minimum value\n",
        "min_value = df['cumulative_tested'].min()\n",
        "print(\"Minimum Cumulative tested Cases:\", min_value)\n",
        "\n",
        "# Median value\n",
        "median_value = df['cumulative_tested'].median()\n",
        "print(\"Median Cumulative tested Cases:\", median_value)\n",
        "\n",
        "# Standard Deviation\n",
        "std_dev = df['cumulative_confirmed'].std()\n",
        "print(\"Standard Deviation of Cumulative Confirmed Cases:\", std_dev)"
      ],
      "metadata": {
        "colab": {
          "base_uri": "https://localhost:8080/"
        },
        "id": "sl3MZkxOrHhp",
        "outputId": "d5f1e618-82c1-472b-882f-73765ec6f13b"
      },
      "execution_count": 17,
      "outputs": [
        {
          "output_type": "stream",
          "name": "stdout",
          "text": [
            "Maximum Cumulative tested Cases: 9214000000\n",
            "Minimum Cumulative tested Cases: 0\n",
            "Median Cumulative tested Cases: 0.0\n",
            "Standard Deviation of Cumulative Confirmed Cases: 608630.024916831\n"
          ]
        }
      ]
    },
    {
      "cell_type": "code",
      "source": [
        "# detect outliers\n",
        "plt.boxplot(df.cumulative_confirmed)\n",
        "plt.show()"
      ],
      "metadata": {
        "colab": {
          "base_uri": "https://localhost:8080/",
          "height": 445
        },
        "id": "P8LJUKneiEud",
        "outputId": "bb5f91fc-a3d7-4a7a-f313-5b051e340444"
      },
      "execution_count": 14,
      "outputs": [
        {
          "output_type": "display_data",
          "data": {
            "text/plain": [
              "<Figure size 640x480 with 1 Axes>"
            ],
            "image/png": "[encoded data removed]"
          },
          "metadata": {}
        }
      ]
    },
    {
      "cell_type": "code",
      "source": [
        "import seaborn as sns\n",
        "import matplotlib.pyplot as plt\n",
        "\n",
        "sns.boxplot(data=df, x='cumulative_confirmed')\n",
        "plt.title('Distribution of cumulative Confirmed Cases')\n",
        "plt.show()\n",
        "\n",
        "df['cumulative_confirmed'].plot(kind='hist', title='Histogram of New Confirmed Cases')\n",
        "plt.show()"
      ],
      "metadata": {
        "colab": {
          "base_uri": "https://localhost:8080/",
          "height": 925
        },
        "id": "7r8wFl6SgGbs",
        "outputId": "6d9d4925-e5c4-49d6-823e-f9d63e884d4c"
      },
      "execution_count": 10,
      "outputs": [
        {
          "output_type": "display_data",
          "data": {
            "text/plain": [
              "<Figure size 640x480 with 1 Axes>"
            ],
            "image/png": "[encoded data removed]"
          },
          "metadata": {}
        },
        {
          "output_type": "display_data",
          "data": {
            "text/plain": [
              "<Figure size 640x480 with 1 Axes>"
            ],
            "image/png": "[encoded data removed]"
          },
          "metadata": {}
        }
      ]
    }
  ]
}